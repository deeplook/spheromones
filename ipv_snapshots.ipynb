{
 "cells": [
  {
   "cell_type": "markdown",
   "metadata": {},
   "source": [
    "# Ipyvolume snapshots\n",
    "\n",
    "An experiment with taking a list of snapshots of the camera position (not the shown data) for later reuse. That state could later be dumped to and loaded from an external storage using e.g. the `pickle` module and/or shown with a thumbnail using `Figure.screenshot()` (?). Also, the UI could be a play button or dropdown menu instead, depending on context."
   ]
  },
  {
   "cell_type": "code",
   "execution_count": 1,
   "metadata": {},
   "outputs": [],
   "source": [
    "import numpy as np\n",
    "import ipyvolume as ipv\n",
    "from ipywidgets import Button, HBox, IntSlider, Layout, VBox"
   ]
  },
  {
   "cell_type": "code",
   "execution_count": 2,
   "metadata": {},
   "outputs": [],
   "source": [
    "class SnapshotMgr:\n",
    "    \"\"\"This class maintains a list of snapshots for an ipyvolume figure.\n",
    "    \n",
    "    A snapshot is the state of the camera position and its world context,\n",
    "    but does not comprise any data shown in the figure itself.\n",
    "    \"\"\"\n",
    "    def __init__(self, figure=None):\n",
    "        \"\"\"Constructor.\n",
    "        \"\"\"\n",
    "        assert figure\n",
    "        \n",
    "        self.history = []\n",
    "        self.fig = figure\n",
    "\n",
    "        self.slider = IntSlider(description='Snapshots:',\n",
    "                                min=0, max=max(0, len(self.history)-1))\n",
    "        self.slider.observe(self.recall_state, names=[\"value\"])\n",
    "        self.slider.disabled = len(self.history) <= 1\n",
    "\n",
    "        layout = Layout(width=\"50px\")\n",
    "        self.add_button = Button(tooltip=\"Add snapshot to history\", icon=\"plus\",\n",
    "                                 layout=layout, button_style=\"primary\")\n",
    "        self.add_button.on_click(self.add_state)\n",
    "        self.rm_button = Button(tooltip=\"Drop snapshot from history\", icon=\"trash-o\",\n",
    "                                layout=layout, button_style=\"primary\", disabled=True)\n",
    "        self.rm_button.on_click(self.drop_state)\n",
    "        self.history.append(self.get_figure_state())\n",
    "        self.ui = VBox([self.fig, HBox([self.slider, self.add_button, self.rm_button])])\n",
    "\n",
    "    def get_figure_state(self):\n",
    "        \"\"\"Get state of a figure and return as a dictionary.\n",
    "        \"\"\"\n",
    "        fig = self.fig\n",
    "        return dict(\n",
    "            position = fig.camera.position,\n",
    "            projectionMatrix = fig.camera.projectionMatrix,\n",
    "            rotation = fig.camera.rotation,\n",
    "            quaternion = fig.camera.quaternion,\n",
    "            matrix_world = fig.matrix_world,\n",
    "            matrix_projection = fig.matrix_projection,\n",
    "            xlim = fig.xlim,\n",
    "            ylim = fig.ylim,\n",
    "            zlim = fig.zlim\n",
    "        )\n",
    "\n",
    "    def restore_figure_state(self, state):\n",
    "        \"\"\"Restore figure to another state.\n",
    "        \"\"\"\n",
    "        fig = self.fig\n",
    "        fig.camera.position = state[\"position\"]\n",
    "        fig.camera.projectionMatrix = state[\"projectionMatrix\"]\n",
    "        fig.camera.rotation = state[\"rotation\"]\n",
    "        fig.camera.quaternion = state[\"quaternion\"]\n",
    "        fig.matrix_world = state[\"matrix_world\"]\n",
    "        fig.matrix_projection = state[\"matrix_projection\"]\n",
    "        fig.xlim = state[\"xlim\"]\n",
    "        fig.ylim = state[\"ylim\"]\n",
    "        fig.zlim = state[\"zlim\"]\n",
    "\n",
    "    def add_state(self, event):\n",
    "        \"\"\"Add current state to the list.\n",
    "        \"\"\"\n",
    "        h = self.history\n",
    "        s = self.slider\n",
    "        if self.fig:\n",
    "            h.append(self.get_figure_state())\n",
    "            s.max = len(h) - 1\n",
    "            s.value = s.max\n",
    "            self.rm_button.disabled = len(h) <= 1\n",
    "            s.disabled = len(h) < 1\n",
    "\n",
    "    def drop_state(self, event):\n",
    "        \"\"\"Drop current state from the list.\n",
    "        \"\"\"\n",
    "        h = self.history\n",
    "        s = self.slider\n",
    "        if len(h) > 0:\n",
    "            del h[s.value]\n",
    "            if s.value > 0:\n",
    "                s.value -= 1\n",
    "            s.max = max(0, len(h) - 1)\n",
    "            self.rm_button.disabled = len(h) <= 1\n",
    "            s.disabled = len(h) < 1\n",
    "            self.restore_figure_state(h[s.value])\n",
    "\n",
    "    def recall_state(self, event):\n",
    "        \"\"\"Retrieve previous state from the list.\n",
    "        \"\"\"\n",
    "        self.restore_figure_state(self.history[event.new])"
   ]
  },
  {
   "cell_type": "code",
   "execution_count": 3,
   "metadata": {},
   "outputs": [
    {
     "data": {
      "application/vnd.jupyter.widget-view+json": {
       "model_id": "8ac193af5df04609a86cbcbb6cd395f4",
       "version_major": 2,
       "version_minor": 0
      },
      "text/plain": [
       "VBox(children=(Figure(camera=PerspectiveCamera(fov=46.0, position=(0.0, 0.0, 2.0), quaternion=(0.0, 0.0, 0.0, …"
      ]
     },
     "metadata": {},
     "output_type": "display_data"
    }
   ],
   "source": [
    "fig = ipv.figure()\n",
    "x, y, z = np.random.normal(0, 1, (3, 10_000))\n",
    "scatter = ipv.scatter(x, y, z, size=1, marker=\"sphere\")\n",
    "mgr = SnapshotMgr(figure=fig)\n",
    "mgr.ui"
   ]
  }
 ],
 "metadata": {
  "kernelspec": {
   "display_name": "Python 3",
   "language": "python",
   "name": "python3"
  },
  "language_info": {
   "codemirror_mode": {
    "name": "ipython",
    "version": 3
   },
   "file_extension": ".py",
   "mimetype": "text/x-python",
   "name": "python",
   "nbconvert_exporter": "python",
   "pygments_lexer": "ipython3",
   "version": "3.7.6"
  }
 },
 "nbformat": 4,
 "nbformat_minor": 4
}
