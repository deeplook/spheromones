{
 "cells": [
  {
   "cell_type": "markdown",
   "metadata": {},
   "source": [
    "# Spheromones\n",
    "\n",
    "This is a collection of funny things you can do with/on spheres. It's still work in progress and will likely be expanded slightly over time. If you feel like contributing to it you're very welcome to do so!"
   ]
  },
  {
   "cell_type": "code",
   "execution_count": null,
   "metadata": {},
   "outputs": [],
   "source": [
    "import base64\n",
    "\n",
    "import geopy\n",
    "import geojson\n",
    "import pandas as pd\n",
    "import numpy as np\n",
    "import ipyvolume as ipv\n",
    "import PIL.Image\n",
    "from ipyleaflet import Map, GeoJSON, Polyline\n",
    "from ipyvolume.datasets import UrlCached\n",
    "\n",
    "from utils import extract_coords, extract_lines\n",
    "from utils import latlon2xyz, lonlat2xyz"
   ]
  },
  {
   "cell_type": "markdown",
   "metadata": {},
   "source": [
    "## Warm-Up"
   ]
  },
  {
   "cell_type": "code",
   "execution_count": null,
   "metadata": {},
   "outputs": [],
   "source": [
    "ipv.quickscatter(*np.random.random((3, 10_000)), marker=\"sphere\")"
   ]
  },
  {
   "cell_type": "code",
   "execution_count": null,
   "metadata": {},
   "outputs": [],
   "source": [
    "x, y, z = np.random.random((3, 10_000))\n",
    "color = np.array([x, y, z]).T\n",
    "ipv.quickscatter(x, y, z, size=z*5, color=color, marker=\"sphere\")"
   ]
  },
  {
   "cell_type": "code",
   "execution_count": null,
   "metadata": {},
   "outputs": [],
   "source": [
    "ipv.figure()\n",
    "x, y, z = np.random.random((3, 10_000))\n",
    "scatter = ipv.scatter(x, y, z, marker='sphere')\n",
    "ipv.show()"
   ]
  },
  {
   "cell_type": "code",
   "execution_count": null,
   "metadata": {},
   "outputs": [],
   "source": [
    "x, y, z = np.random.random((3, 10_000))\n",
    "scatter.color = np.array([x, y, z]).T\n",
    "scatter.x = x\n",
    "scatter.y = y\n",
    "scatter.z = z"
   ]
  },
  {
   "cell_type": "markdown",
   "metadata": {},
   "source": [
    "## Random Points"
   ]
  },
  {
   "cell_type": "code",
   "execution_count": null,
   "metadata": {},
   "outputs": [],
   "source": [
    "%load -n latlon2xyz"
   ]
  },
  {
   "cell_type": "code",
   "execution_count": null,
   "metadata": {},
   "outputs": [],
   "source": [
    "lat = 90 * 2 * (np.random.random(10_000) - 0.5)\n",
    "lon = 180 * 2 * (np.random.random(10_000) - 0.5)\n",
    "points = [latlon2xyz(*latlon) for latlon in zip(lat, lon)]\n",
    "x, y, z = np.array(points).T\n",
    "ipv.quickscatter(x, y, z, size=.5, marker='sphere')"
   ]
  },
  {
   "cell_type": "code",
   "execution_count": null,
   "metadata": {},
   "outputs": [],
   "source": [
    "ipv.figure()\n",
    "x, y, z = (np.random.random((3, 10_000)) - 0.5) * 2\n",
    "d = np.sqrt(x**2 + y**2 + z**2)\n",
    "scatter = ipv.scatter(x/d, y/d , z/d, size=.5, marker='sphere') # box\n",
    "ipv.xyzlim(-1, 1)\n",
    "ipv.show()"
   ]
  },
  {
   "cell_type": "code",
   "execution_count": null,
   "metadata": {},
   "outputs": [],
   "source": [
    "d = np.sqrt(x**2 + y**2 + z**2)\n",
    "scatter.x = x\n",
    "scatter.y = y\n",
    "scatter.z = z"
   ]
  },
  {
   "cell_type": "code",
   "execution_count": null,
   "metadata": {},
   "outputs": [],
   "source": [
    "ipv.figure()\n",
    "for col in 'red blue green'.split():\n",
    "    x, y, z = (np.random.random((3, 100)) - 0.5)\n",
    "    d = np.sqrt(x**2 + y**2 + z**2)\n",
    "    ipv.plot(x/d, y/d , z/d, color=col)\n",
    "ipv.show()"
   ]
  },
  {
   "cell_type": "markdown",
   "metadata": {},
   "source": [
    "## Grids"
   ]
  },
  {
   "cell_type": "code",
   "execution_count": null,
   "metadata": {},
   "outputs": [],
   "source": [
    "lon = np.arange(-180, 180, 15)\n",
    "lat = np.arange(-90, 90 + 15, 15)\n",
    "points = [latlon2xyz(yi, xi) for xi in lon for yi in lat]\n",
    "x, y, z = np.array(points).T\n",
    "\n",
    "ipv.figure()\n",
    "ipv.scatter(x, y, z, size=2, color='red', marker='sphere')\n",
    "ipv.xyzlim(-1, 1)\n",
    "ipv.show()"
   ]
  },
  {
   "cell_type": "code",
   "execution_count": null,
   "metadata": {},
   "outputs": [],
   "source": [
    "delta = 15\n",
    "lon = np.arange(-180, 180 + delta, delta)\n",
    "lat = np.arange(-90, 90 + delta, delta)\n",
    "\n",
    "ipv.figure()\n",
    "for yi in lat:\n",
    "    points = [latlon2xyz(yi, xi) for xi in lon]\n",
    "    x, y, z = np.array(points).T\n",
    "    ipv.plot(x, y, z, color='red')\n",
    "for xi in lon:\n",
    "    points = [latlon2xyz(yi, xi) for yi in lat]\n",
    "    x, y, z = np.array(points).T\n",
    "    p = ipv.plot(x, y, z, color='blue')\n",
    "ipv.show()"
   ]
  },
  {
   "cell_type": "markdown",
   "metadata": {},
   "source": [
    "## Solid Spheres"
   ]
  },
  {
   "cell_type": "markdown",
   "metadata": {},
   "source": [
    "Use a ThreeJS primitive"
   ]
  },
  {
   "cell_type": "code",
   "execution_count": null,
   "metadata": {},
   "outputs": [],
   "source": [
    "ipv.figure()\n",
    "x, y, z = np.array([[0.], [0.], [0.]])\n",
    "ipv.scatter(x, y, z, size=100, marker=\"sphere\")\n",
    "ipv.xyzlim(-0.5, 0.5)\n",
    "ipv.show()"
   ]
  },
  {
   "cell_type": "markdown",
   "metadata": {},
   "source": [
    "Reimplemented with variable grid:"
   ]
  },
  {
   "cell_type": "code",
   "execution_count": null,
   "metadata": {},
   "outputs": [],
   "source": [
    "def spherical_grid(num_lon, num_lat, r=1):\n",
    "    \"Return array of points on a regular longitude/latitude spherical grid.\"\n",
    "    lon = np.linspace(0, 2*np.pi, num_lon)\n",
    "    lat = np.linspace(-np.pi/2, np.pi/2, num_lat)\n",
    "    lon, lat = np.meshgrid(lon, lat)\n",
    "    x = np.ravel(r * np.cos(lat) * np.cos(lon))\n",
    "    y = np.ravel(r * np.cos(lat) * np.sin(lon))\n",
    "    z = np.ravel(np.sin(lat))\n",
    "    return np.array([x, y, z]).T"
   ]
  },
  {
   "cell_type": "code",
   "execution_count": null,
   "metadata": {},
   "outputs": [],
   "source": [
    "def tri(num_lon, num_lat, x):\n",
    "    \"Triangulate spherical grid.\"\n",
    "    # FIXME: debug off-by-one issues with num_lon, num_lat\n",
    "    # FIXME: remove need for x\n",
    "    l = len(x)\n",
    "    for j in range(num_lat+1):\n",
    "        for i in range(num_lon+1):\n",
    "            a, b, c = [i*num_lat+j, i*num_lat+j+1, i*num_lat+j+num_lon]\n",
    "            if a < l and b < l and c < l:\n",
    "                yield [a, b, c]\n",
    "            a, b, c = [i*num_lat+j+1, i*num_lat+j+num_lon, i*num_lat+j+num_lon+1]\n",
    "            if a < l and b < l and c < l:\n",
    "                yield [a, b, c]"
   ]
  },
  {
   "cell_type": "code",
   "execution_count": null,
   "metadata": {},
   "outputs": [],
   "source": [
    "num_lon = 12\n",
    "num_lat = 13  # FIXME...\n",
    "ipv.figure()\n",
    "points = spherical_grid(num_lon=num_lon, num_lat=num_lat)\n",
    "x, y, z = points.T\n",
    "triangles = list(tri(num_lon, num_lat, x))\n",
    "ipv.plot_trisurf(x, y, z, triangles=triangles)\n",
    "ipv.xyzlim(-1, 1)\n",
    "ipv.show()"
   ]
  },
  {
   "cell_type": "markdown",
   "metadata": {
    "heading_collapsed": true
   },
   "source": [
    "## Thou shall triangulate!"
   ]
  },
  {
   "cell_type": "code",
   "execution_count": null,
   "metadata": {
    "hidden": true
   },
   "outputs": [],
   "source": [
    "def triangulate(triangle, level=0):\n",
    "    \"Return a spherical triangle triangulated into four triangles.\"\n",
    "    if level == 0:\n",
    "        yield triangle\n",
    "    else:\n",
    "        a, b, c = triangle\n",
    "        ab2, bc2, ac2 = (a+b)/2, (b+c)/2, (a+c)/2\n",
    "        ab2, bc2, ac2 = [v / np.linalg.norm(v) for v in [ab2, bc2, ac2]]\n",
    "        for tri in triangulate([a, ab2, ac2], level-1):\n",
    "            yield tri\n",
    "        for tri in triangulate([b, ab2, bc2], level-1):\n",
    "            yield tri\n",
    "        for tri in triangulate([c, ac2, bc2], level-1):\n",
    "            yield tri\n",
    "        for tri in triangulate([ab2, bc2, ac2], level-1):\n",
    "            yield tri"
   ]
  },
  {
   "cell_type": "code",
   "execution_count": null,
   "metadata": {
    "hidden": true
   },
   "outputs": [],
   "source": [
    "lonlats = [(0, 0), (90, 0), (0, 90)]\n",
    "points = np.array([lonlat2xyz(lon, lat) for (lon, lat) in lonlats])\n",
    "ipv.figure()\n",
    "pts = np.concatenate(list(triangulate(points, level=1)))\n",
    "ipv.scatter(*pts.T, marker='sphere', size=3)\n",
    "ipv.scatter(*points, marker='sphere', size=5)\n",
    "# ipv.plot_trisurf(*pts[-3:], triangles=[[0, 1, 2]])\n",
    "ipv.xyzlim(-1, 1)\n",
    "ipv.show()"
   ]
  },
  {
   "cell_type": "code",
   "execution_count": null,
   "metadata": {
    "hidden": true
   },
   "outputs": [],
   "source": [
    "lonlats = [(0, 0), (90, 0), (-90, 0), (0, 90), (0, -90), (180, 0)]\n",
    "points = np.array([lonlat2xyz(lon, lat) for (lon, lat) in lonlats])\n",
    "surfaces = [\n",
    "    (0, 1, 3),\n",
    "    (0, 2, 3),\n",
    "    (0, 1, 4),\n",
    "    (0, 2, 4),\n",
    "    (5, 1, 3),\n",
    "    (5, 2, 3),\n",
    "    (5, 1, 4),\n",
    "    (5, 2, 4),\n",
    "]"
   ]
  },
  {
   "cell_type": "code",
   "execution_count": null,
   "metadata": {
    "hidden": true
   },
   "outputs": [],
   "source": [
    "level = 1\n",
    "ipv.figure()\n",
    "for i, j, k in surfaces:\n",
    "    triangle = points[i], points[j], points[k]\n",
    "    pts = np.concatenate(list(triangulate(triangle, level=level)))\n",
    "    x, y, z = pts.T\n",
    "    ipv.scatter(x, y, z, marker='sphere', size=3)\n",
    "ipv.xyzlim(-1, 1)\n",
    "ipv.show()"
   ]
  },
  {
   "cell_type": "code",
   "execution_count": null,
   "metadata": {
    "hidden": true
   },
   "outputs": [],
   "source": [
    "level = 1\n",
    "ipv.figure()\n",
    "for i, j, k in surfaces:\n",
    "    triangle = points[i], points[j], points[k]\n",
    "    pts = np.concatenate(list(triangulate(triangle, level=level)))\n",
    "    x, y, z = pts.T\n",
    "    # color = np.array([x, y, z]).T\n",
    "    # ipv.scatter(x, y, z, marker='sphere', size=3, color=color)\n",
    "    tris = [list(sub) for sub in np.split(np.arange(len(pts)), len(pts)/3)]\n",
    "    ipv.plot_trisurf(x, y, z, triangles=tris) # , color=color)\n",
    "ipv.xyzlim(-1, 1)\n",
    "ipv.show()"
   ]
  },
  {
   "cell_type": "markdown",
   "metadata": {
    "heading_collapsed": true
   },
   "source": [
    "## Globes"
   ]
  },
  {
   "cell_type": "markdown",
   "metadata": {
    "hidden": true
   },
   "source": [
    "Points from CSV "
   ]
  },
  {
   "cell_type": "code",
   "execution_count": null,
   "metadata": {
    "hidden": true
   },
   "outputs": [],
   "source": [
    "df = pd.read_csv('airports.csv', sep=';')"
   ]
  },
  {
   "cell_type": "code",
   "execution_count": null,
   "metadata": {
    "hidden": true
   },
   "outputs": [],
   "source": [
    "df.describe()"
   ]
  },
  {
   "cell_type": "code",
   "execution_count": null,
   "metadata": {
    "hidden": true
   },
   "outputs": [],
   "source": [
    "df.head()"
   ]
  },
  {
   "cell_type": "code",
   "execution_count": null,
   "metadata": {
    "hidden": true
   },
   "outputs": [],
   "source": [
    "lat = df.latitude_deg.values\n",
    "lon = df.longitude_deg.values\n",
    "z = [latlon2xyz(*latlon) for latlon in zip(lat, lon)]\n",
    "x, y, z = np.array(z).T\n",
    "ipv.quickscatter(x, y, z, size=.2, color='red', marker='sphere')"
   ]
  },
  {
   "cell_type": "markdown",
   "metadata": {
    "hidden": true
   },
   "source": [
    "GeoJSON on flat maps"
   ]
  },
  {
   "cell_type": "code",
   "execution_count": null,
   "metadata": {
    "hidden": true
   },
   "outputs": [],
   "source": [
    "data = geojson.load(open('globe.geojson'))"
   ]
  },
  {
   "cell_type": "code",
   "execution_count": null,
   "metadata": {
    "hidden": true
   },
   "outputs": [],
   "source": [
    "m = Map(center=(0, 0), zoom=1)\n",
    "m"
   ]
  },
  {
   "cell_type": "markdown",
   "metadata": {
    "hidden": true
   },
   "source": [
    "Lines extracted from GeoJSON on a flat map"
   ]
  },
  {
   "cell_type": "code",
   "execution_count": null,
   "metadata": {
    "hidden": true
   },
   "outputs": [],
   "source": [
    "g = GeoJSON(data=data, style={'color': 'green'})\n",
    "m += g"
   ]
  },
  {
   "cell_type": "code",
   "execution_count": null,
   "metadata": {
    "hidden": true
   },
   "outputs": [],
   "source": [
    "%load -n extract_lines"
   ]
  },
  {
   "cell_type": "code",
   "execution_count": null,
   "metadata": {
    "hidden": true
   },
   "outputs": [],
   "source": [
    "lines = list(extract_lines(data))\n",
    "for line in lines:\n",
    "    if len(np.array(line).shape) < 2:\n",
    "        line = line[0]\n",
    "    L = len(line)\n",
    "    if L == 1:\n",
    "        line = line[0]\n",
    "    rline = [(lat, lon) for (lon, lat) in line]\n",
    "    m += Polyline(locations=rline, color='red', fill_color='red',\n",
    "                  opacity=1, weight=1, dash_array='2', fill_opacity=0.1)"
   ]
  },
  {
   "cell_type": "code",
   "execution_count": null,
   "metadata": {
    "hidden": true
   },
   "outputs": [],
   "source": [
    "m -= g"
   ]
  },
  {
   "cell_type": "markdown",
   "metadata": {
    "hidden": true
   },
   "source": [
    "Single points on a globe"
   ]
  },
  {
   "cell_type": "code",
   "execution_count": null,
   "metadata": {
    "hidden": true
   },
   "outputs": [],
   "source": [
    "%load -n extract_coords"
   ]
  },
  {
   "cell_type": "code",
   "execution_count": null,
   "metadata": {
    "hidden": true
   },
   "outputs": [],
   "source": [
    "ipv.figure()\n",
    "lon, lat = np.array(list(extract_coords(data))).T\n",
    "z = [latlon2xyz(yi, xi) for (yi, xi) in zip(lat, lon)]\n",
    "x, y, z = np.array(z).T\n",
    "ipv.scatter(x, y, z, size=0.5, color='red', marker='sphere')\n",
    "ipv.xyzlim(-1, 1)\n",
    "ipv.show()"
   ]
  },
  {
   "cell_type": "code",
   "execution_count": null,
   "metadata": {
    "hidden": true
   },
   "outputs": [],
   "source": [
    "len(x)"
   ]
  },
  {
   "cell_type": "markdown",
   "metadata": {
    "hidden": true
   },
   "source": [
    "Lines extracted from GeoJSON on a globe"
   ]
  },
  {
   "cell_type": "code",
   "execution_count": null,
   "metadata": {
    "hidden": true
   },
   "outputs": [],
   "source": [
    "ipv.figure()\n",
    "x, y, z = np.array([[0.], [0.], [0.]])\n",
    "ipv.scatter(x, y, z, size=100, color='blue', marker=\"sphere\")\n",
    "lines = list(extract_lines(data))\n",
    "for line in lines:\n",
    "    if len(np.array(line).shape) < 2:\n",
    "        line = line[0]\n",
    "    L = len(line)\n",
    "    if L == 1:\n",
    "        line = line[0]\n",
    "    z = [latlon2xyz(lat, lon) for (lon, lat) in line]\n",
    "    x, y, z = np.array(z).T\n",
    "    ipv.plot(-x, z, y, color='#aaffaa')\n",
    "ipv.xyzlim(-1, 1)\n",
    "ipv.show()"
   ]
  },
  {
   "cell_type": "markdown",
   "metadata": {
    "hidden": true
   },
   "source": [
    "Moving around"
   ]
  },
  {
   "cell_type": "code",
   "execution_count": null,
   "metadata": {
    "hidden": true
   },
   "outputs": [],
   "source": [
    "ipv.view(azimuth=-90.0, elevation=10, distance=None)"
   ]
  },
  {
   "cell_type": "code",
   "execution_count": null,
   "metadata": {
    "hidden": true
   },
   "outputs": [],
   "source": [
    "def set_lat_lon(lat, lon):\n",
    "    # x, y, z = np.array(latlon2xyz(lat, lon)).reshape(3, 1)\n",
    "    # ipv.scatter(x,y, z, size=5, color='red', marker='sphere')\n",
    "    ipv.view(azimuth=-90 + lon, elevation=lat)"
   ]
  },
  {
   "cell_type": "code",
   "execution_count": null,
   "metadata": {
    "hidden": true
   },
   "outputs": [],
   "source": [
    "set_lat_lon(52.3, 14.5)"
   ]
  },
  {
   "cell_type": "code",
   "execution_count": null,
   "metadata": {
    "hidden": true
   },
   "outputs": [],
   "source": [
    "def set_location(location: str):\n",
    "    gc = geopy.geocoders.Nominatim\n",
    "    loc = gc(user_agent=\"spheromones\").geocode(query=location)\n",
    "    ipv.view(-90 + loc.longitude, loc.latitude)"
   ]
  },
  {
   "cell_type": "code",
   "execution_count": null,
   "metadata": {
    "hidden": true
   },
   "outputs": [],
   "source": [
    "set_location('chicago')"
   ]
  },
  {
   "cell_type": "code",
   "execution_count": null,
   "metadata": {
    "hidden": true
   },
   "outputs": [],
   "source": [
    "for lat in np.linspace(0, 90, 1000):\n",
    "    set_lat_lon(52.3, lat)"
   ]
  },
  {
   "cell_type": "markdown",
   "metadata": {
    "hidden": true
   },
   "source": [
    "Record movie (this needs ImageMagick to be installed!)"
   ]
  },
  {
   "cell_type": "code",
   "execution_count": null,
   "metadata": {
    "hidden": true
   },
   "outputs": [],
   "source": [
    "def set_view(figure, framenr, fraction):\n",
    "    ipv.view(fraction*180, (fraction - 0.5) * 180)\n",
    "\n",
    "ipv.movie('globe.gif', set_view, fps=20, frames=40, gif_loop=None)"
   ]
  },
  {
   "cell_type": "markdown",
   "metadata": {
    "hidden": true
   },
   "source": [
    "Play recorded movie"
   ]
  },
  {
   "cell_type": "code",
   "execution_count": null,
   "metadata": {
    "hidden": true
   },
   "outputs": [],
   "source": [
    "from IPython.display import Image\n",
    "with open('globe.gif', 'rb') as gif:\n",
    "    url = b\"data:image/gif;base64,\" + base64.b64encode(gif.read())\n",
    "Image(url=url.decode('ascii'))"
   ]
  },
  {
   "cell_type": "markdown",
   "metadata": {
    "heading_collapsed": true
   },
   "source": [
    "## Textures"
   ]
  },
  {
   "cell_type": "markdown",
   "metadata": {
    "hidden": true
   },
   "source": [
    "Get terrain image to be used as texture image from:\n",
    "\n",
    "- http://vterrain.org/Imagery/WholeEarth/\n",
    "- https://eoimages.gsfc.nasa.gov/images/imagerecords/57000/57752/land_shallow_topo_2048.jpg"
   ]
  },
  {
   "cell_type": "code",
   "execution_count": null,
   "metadata": {
    "hidden": true
   },
   "outputs": [],
   "source": [
    "image = PIL.Image.open('land_shallow_topo_2048.jpg')"
   ]
  },
  {
   "cell_type": "code",
   "execution_count": null,
   "metadata": {
    "hidden": true
   },
   "outputs": [],
   "source": [
    "X = np.arange(-5, 6, 1)\n",
    "Y = np.arange(-5, 6, 1)\n",
    "X, Y = np.meshgrid(X, Y)\n",
    "Z = X * 0 + 1\n",
    "\n",
    "fig = ipv.figure()\n",
    "u = (X-5)/10\n",
    "v = (Y-5)/10\n",
    "ipv.plot_mesh(X, Y, Z, u=u, v=v, texture=image, wireframe=True)\n",
    "ipv.show()"
   ]
  },
  {
   "cell_type": "code",
   "execution_count": null,
   "metadata": {
    "hidden": true
   },
   "outputs": [],
   "source": [
    "a = np.arange(-1, 1.1, 0.1)\n",
    "X, Y = np.meshgrid(a, a)\n",
    "Z = np.sqrt(1**2 - X**2 - Y**2)\n",
    "\n",
    "ipv.figure()\n",
    "ipv.plot_surface(X, Z, Y, color=\"orange\")\n",
    "ipv.plot_wireframe(X, Z, Y, color=\"red\")\n",
    "ipv.xyzlim(-1, 1)\n",
    "ipv.show()"
   ]
  },
  {
   "cell_type": "code",
   "execution_count": null,
   "metadata": {
    "hidden": true
   },
   "outputs": [],
   "source": [
    "a = np.arange(-1, 1.05, 0.05)\n",
    "U, V = np.meshgrid(a, a)\n",
    "X = U\n",
    "Y = V\n",
    "Z = np.sqrt(1**2 - X**2 - Y**2)\n",
    "\n",
    "fig = ipv.figure()\n",
    "u = (X-1) / 2\n",
    "v = (Y-1) / 2\n",
    "mesh = ipv.plot_mesh(X, Y, Z, u=u, v=v, texture=image, wireframe=False)\n",
    "ipv.xyzlim(-1, 1)\n",
    "ipv.show()"
   ]
  },
  {
   "cell_type": "markdown",
   "metadata": {},
   "source": [
    "## Proper mapping of a texture to a sphere\n",
    "\n",
    "A common application is to map a cylindrical map of the Earth onto a sphere. To accomplish this, one must use [UV mappings](https://en.wikipedia.org/wiki/UV_mapping). For a nice reference on these mapping, consult [this article](https://www.microsoft.com/en-us/research/wp-content/uploads/2017/01/spheremap.pdf) on the detailed math behind the projections. (This section was contributed by [grburgess](https://github.com/grburgess).)"
   ]
  },
  {
   "cell_type": "code",
   "execution_count": null,
   "metadata": {
    "ExecuteTime": {
     "end_time": "2020-03-28T14:46:47.326609Z",
     "start_time": "2020-03-28T14:46:47.310757Z"
    }
   },
   "outputs": [],
   "source": [
    "url = \"https://eoimages.gsfc.nasa.gov/images/imagerecords/74000/74117/world.200408.3x5400x2700.jpg\"\n",
    "image_file = UrlCached(url)\n",
    "image = PIL.Image.open(image_file.fetch())"
   ]
  },
  {
   "cell_type": "code",
   "execution_count": null,
   "metadata": {
    "ExecuteTime": {
     "end_time": "2020-03-28T12:43:45.727688Z",
     "start_time": "2020-03-28T12:43:45.724036Z"
    }
   },
   "outputs": [],
   "source": [
    "def sphere_uv_z_zaligned(x_unit_vec, y_unit_vec, z_unit_vec):\n",
    "    # Compute the lon and lat for a z-aligned sphere\n",
    "    # to change axis, the math changes but is essentially\n",
    "    # the same.\n",
    "    lon = np.arctan2(y_unit_vec, x_unit_vec)\n",
    "    lat = np.arcsin(z_unit_vec)\n",
    "    \n",
    "    # Move U V to proper values:\n",
    "    u = 0.5 + lon / (2 * np.pi)\n",
    "    v = 0.5 + lat / np.pi\n",
    "    \n",
    "    return u, v"
   ]
  },
  {
   "cell_type": "code",
   "execution_count": null,
   "metadata": {
    "ExecuteTime": {
     "end_time": "2020-03-28T12:43:46.345724Z",
     "start_time": "2020-03-28T12:43:46.337716Z"
    }
   },
   "outputs": [],
   "source": [
    "def plot_sphere(x, y, z, radius, image, detail_level=100):\n",
    "    \"\"\"Plot a sphere with origin at x, y, z and radius.\n",
    "    \"\"\"\n",
    "    assert detail_level > 0\n",
    "    \n",
    "    # First compute the unit vectors:\n",
    "    phi = np.linspace(0, 2 * np.pi, detail_level)\n",
    "    theta = np.linspace(0, np.pi, detail_level)\n",
    "\n",
    "    x_unit_vec = np.outer(np.cos(phi), np.sin(theta))\n",
    "    y_unit_vec = np.outer(np.sin(phi), np.sin(theta))\n",
    "    z_unit_vec = np.outer(np.ones(np.size(phi)), np.cos(theta))\n",
    "    \n",
    "    # Now compute the surface of the sphere:\n",
    "    X = x + radius * x_unit_vec\n",
    "    Y = y + radius * y_unit_vec\n",
    "    Z = z + radius * z_unit_vec\n",
    "    \n",
    "    # Get UV:\n",
    "    u, v = sphere_uv_z_zaligned(x_unit_vec, y_unit_vec, z_unit_vec)\n",
    "    \n",
    "    return ipv.plot_mesh(X, Y, Z, u=u, v=v, texture=image, wireframe=False)"
   ]
  },
  {
   "cell_type": "code",
   "execution_count": null,
   "metadata": {
    "ExecuteTime": {
     "end_time": "2020-03-28T12:43:49.970693Z",
     "start_time": "2020-03-28T12:43:46.702179Z"
    }
   },
   "outputs": [],
   "source": [
    "fig = ipv.figure()\n",
    "plot_sphere(0, 0, 0, radius=6000, image=image, detail_level=500)\n",
    "ipv.show()"
   ]
  },
  {
   "cell_type": "markdown",
   "metadata": {},
   "source": [
    "The seam at the back is a result from the mapping. The more detail, the smaller it gets. "
   ]
  },
  {
   "cell_type": "code",
   "execution_count": null,
   "metadata": {
    "ExecuteTime": {
     "end_time": "2020-03-28T12:43:49.980070Z",
     "start_time": "2020-03-28T12:43:49.976323Z"
    }
   },
   "outputs": [],
   "source": [
    "url = \"http://images.planet-mofo.com/A-Delusion/mofo%20art%20from%20ATD/DV-deathstar-texture.png\"\n",
    "image_file = UrlCached(url)\n",
    "image = PIL.Image.open(image_file.fetch())"
   ]
  },
  {
   "cell_type": "code",
   "execution_count": null,
   "metadata": {
    "ExecuteTime": {
     "end_time": "2020-03-28T12:43:50.092903Z",
     "start_time": "2020-03-28T12:43:49.982337Z"
    }
   },
   "outputs": [],
   "source": [
    "fig = ipv.figure()\n",
    "plot_sphere(-10, 1, 6, radius=10, image=image, detail_level=500)\n",
    "ipv.show()"
   ]
  },
  {
   "cell_type": "markdown",
   "metadata": {},
   "source": [
    "## More to come... please stay tuned! ;)\n",
    "\n",
    "- Charts\n",
    "- Animation"
   ]
  }
 ],
 "metadata": {
  "kernelspec": {
   "display_name": "Python 3",
   "language": "python",
   "name": "python3"
  },
  "language_info": {
   "codemirror_mode": {
    "name": "ipython",
    "version": 3
   },
   "file_extension": ".py",
   "mimetype": "text/x-python",
   "name": "python",
   "nbconvert_exporter": "python",
   "pygments_lexer": "ipython3",
   "version": "3.7.6"
  }
 },
 "nbformat": 4,
 "nbformat_minor": 4
}
